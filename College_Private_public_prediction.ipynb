{
  "nbformat": 4,
  "nbformat_minor": 0,
  "metadata": {
    "colab": {
      "name": "College_Private_public_prediction.ipynb",
      "provenance": [],
      "include_colab_link": true
    },
    "kernelspec": {
      "name": "python3",
      "display_name": "Python 3"
    }
  },
  "cells": [
    {
      "cell_type": "markdown",
      "metadata": {
        "id": "view-in-github",
        "colab_type": "text"
      },
      "source": [
        "<a href=\"https://colab.research.google.com/github/gopalreddy63p/gopal_123/blob/master/College_Private_public_prediction.ipynb\" target=\"_parent\"><img src=\"https://colab.research.google.com/assets/colab-badge.svg\" alt=\"Open In Colab\"/></a>"
      ]
    },
    {
      "cell_type": "code",
      "metadata": {
        "id": "bIIEWLB2Tf6H",
        "colab_type": "code",
        "colab": {}
      },
      "source": [
        "import pandas as pd\n",
        "from sklearn import svm\n",
        "from sklearn.metrics import accuracy_score\n",
        "import sklearn\n",
        "from sklearn.model_selection import train_test_split\n",
        "from sklearn.preprocessing import scale\n",
        "from sklearn.model_selection import GridSearchCV\n",
        "\n",
        "df = pd.read_csv('Colleges.csv',header=0)\n",
        "df.head()"
      ],
      "execution_count": 0,
      "outputs": []
    },
    {
      "cell_type": "code",
      "metadata": {
        "id": "3GRzlfEAVWwa",
        "colab_type": "code",
        "colab": {}
      },
      "source": [
        "pred_df = df[:]\n",
        "pred_df.drop(['Private'],axis=1,inplace=True)\n",
        "cols = pred_df.columns"
      ],
      "execution_count": 0,
      "outputs": []
    },
    {
      "cell_type": "code",
      "metadata": {
        "id": "G1AXTmlWVjP2",
        "colab_type": "code",
        "colab": {}
      },
      "source": [
        "train,test = train_test_split(df,test_size = 0.2)\n",
        "train_x = train[cols]\n",
        "train_y = train['Private']\n",
        "\n",
        "test_x = test[cols]\n",
        "test_y = test['Private']"
      ],
      "execution_count": 0,
      "outputs": []
    },
    {
      "cell_type": "code",
      "metadata": {
        "id": "TISuDm3zV2yu",
        "colab_type": "code",
        "colab": {}
      },
      "source": [
        "model = svm.SVC(kernel='linear')\n",
        "model.fit(train_x,train_y)\n",
        "\n",
        "pred = model.predict(test_x)\n",
        "\n",
        "print(\"accuracy before Preprocessing:\",accuracy_score(test_y,pred))"
      ],
      "execution_count": 0,
      "outputs": []
    },
    {
      "cell_type": "code",
      "metadata": {
        "id": "9-WpbxlDW39e",
        "colab_type": "code",
        "colab": {}
      },
      "source": [
        "\n",
        "# After preprocessing score\n",
        "\n",
        "X_train_scale=scale(train_x)\n",
        "X_test_scale=scale(test_x)\n",
        "\n",
        "param_grid = {'C': [0.1, 1, 10, 100, 1000],  \n",
        "              'gamma': [1, 0.1, 0.01, 0.001, 0.0001], \n",
        "              'kernel': ['rbf']} \n",
        "grid = GridSearchCV(svm.SVC(), param_grid, refit = True, verbose = 3)\n",
        "grid.fit(X_train_scale,train_y)\n",
        "\n",
        "\n",
        "pred = grid.predict(X_test_scale)\n",
        "\n",
        "print(\"accuracy after Preprocessing:\",accuracy_score(test_y,pred))"
      ],
      "execution_count": 0,
      "outputs": []
    }
  ]
}